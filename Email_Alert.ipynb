{
  "nbformat": 4,
  "nbformat_minor": 0,
  "metadata": {
    "colab": {
      "provenance": [],
      "mount_file_id": "1GLpjmrCMbriAONZ4z1jtKYJf-MNiS7KR",
      "authorship_tag": "ABX9TyNdOHsj0AoDS0r3v1+mKTqV",
      "include_colab_link": true
    },
    "kernelspec": {
      "name": "python3",
      "display_name": "Python 3"
    },
    "language_info": {
      "name": "python"
    }
  },
  "cells": [
    {
      "cell_type": "markdown",
      "metadata": {
        "id": "view-in-github",
        "colab_type": "text"
      },
      "source": [
        "<a href=\"https://colab.research.google.com/github/anilsolanki2645/Snowflake_College_Database_Automation__Solution/blob/main/Email_Alert.ipynb\" target=\"_parent\"><img src=\"https://colab.research.google.com/assets/colab-badge.svg\" alt=\"Open In Colab\"/></a>"
      ]
    },
    {
      "cell_type": "code",
      "execution_count": null,
      "metadata": {
        "colab": {
          "base_uri": "https://localhost:8080/"
        },
        "id": "iNZ2fefH0Cwx",
        "outputId": "75225e0f-0253-4095-d363-5b5fcde9a516",
        "collapsed": true
      },
      "outputs": [
        {
          "output_type": "stream",
          "name": "stdout",
          "text": [
            "Collecting snowflake-connector-python\n",
            "  Downloading snowflake_connector_python-3.12.2-cp310-cp310-manylinux_2_17_x86_64.manylinux2014_x86_64.whl.metadata (65 kB)\n",
            "\u001b[2K     \u001b[90m━━━━━━━━━━━━━━━━━━━━━━━━━━━━━━━━━━━━━━━━\u001b[0m \u001b[32m65.3/65.3 kB\u001b[0m \u001b[31m829.4 kB/s\u001b[0m eta \u001b[36m0:00:00\u001b[0m\n",
            "\u001b[?25hCollecting boto3\n",
            "  Downloading boto3-1.35.29-py3-none-any.whl.metadata (6.6 kB)\n",
            "Collecting asn1crypto<2.0.0,>0.24.0 (from snowflake-connector-python)\n",
            "  Downloading asn1crypto-1.5.1-py2.py3-none-any.whl.metadata (13 kB)\n",
            "Requirement already satisfied: cffi<2.0.0,>=1.9 in /usr/local/lib/python3.10/dist-packages (from snowflake-connector-python) (1.17.1)\n",
            "Requirement already satisfied: cryptography>=3.1.0 in /usr/local/lib/python3.10/dist-packages (from snowflake-connector-python) (43.0.1)\n",
            "Requirement already satisfied: pyOpenSSL<25.0.0,>=16.2.0 in /usr/local/lib/python3.10/dist-packages (from snowflake-connector-python) (24.2.1)\n",
            "Requirement already satisfied: pyjwt<3.0.0 in /usr/local/lib/python3.10/dist-packages (from snowflake-connector-python) (2.9.0)\n",
            "Requirement already satisfied: pytz in /usr/local/lib/python3.10/dist-packages (from snowflake-connector-python) (2024.2)\n",
            "Requirement already satisfied: requests<3.0.0 in /usr/local/lib/python3.10/dist-packages (from snowflake-connector-python) (2.32.3)\n",
            "Requirement already satisfied: packaging in /usr/local/lib/python3.10/dist-packages (from snowflake-connector-python) (24.1)\n",
            "Requirement already satisfied: charset-normalizer<4,>=2 in /usr/local/lib/python3.10/dist-packages (from snowflake-connector-python) (3.3.2)\n",
            "Requirement already satisfied: idna<4,>=2.5 in /usr/local/lib/python3.10/dist-packages (from snowflake-connector-python) (3.10)\n",
            "Requirement already satisfied: certifi>=2017.4.17 in /usr/local/lib/python3.10/dist-packages (from snowflake-connector-python) (2024.8.30)\n",
            "Requirement already satisfied: typing-extensions<5,>=4.3 in /usr/local/lib/python3.10/dist-packages (from snowflake-connector-python) (4.12.2)\n",
            "Requirement already satisfied: filelock<4,>=3.5 in /usr/local/lib/python3.10/dist-packages (from snowflake-connector-python) (3.16.1)\n",
            "Requirement already satisfied: sortedcontainers>=2.4.0 in /usr/local/lib/python3.10/dist-packages (from snowflake-connector-python) (2.4.0)\n",
            "Requirement already satisfied: platformdirs<5.0.0,>=2.6.0 in /usr/local/lib/python3.10/dist-packages (from snowflake-connector-python) (4.3.6)\n",
            "Collecting tomlkit (from snowflake-connector-python)\n",
            "  Downloading tomlkit-0.13.2-py3-none-any.whl.metadata (2.7 kB)\n",
            "Collecting botocore<1.36.0,>=1.35.29 (from boto3)\n",
            "  Downloading botocore-1.35.29-py3-none-any.whl.metadata (5.6 kB)\n",
            "Collecting jmespath<2.0.0,>=0.7.1 (from boto3)\n",
            "  Downloading jmespath-1.0.1-py3-none-any.whl.metadata (7.6 kB)\n",
            "Collecting s3transfer<0.11.0,>=0.10.0 (from boto3)\n",
            "  Downloading s3transfer-0.10.2-py3-none-any.whl.metadata (1.7 kB)\n",
            "Requirement already satisfied: python-dateutil<3.0.0,>=2.1 in /usr/local/lib/python3.10/dist-packages (from botocore<1.36.0,>=1.35.29->boto3) (2.8.2)\n",
            "Requirement already satisfied: urllib3!=2.2.0,<3,>=1.25.4 in /usr/local/lib/python3.10/dist-packages (from botocore<1.36.0,>=1.35.29->boto3) (2.2.3)\n",
            "Requirement already satisfied: pycparser in /usr/local/lib/python3.10/dist-packages (from cffi<2.0.0,>=1.9->snowflake-connector-python) (2.22)\n",
            "Requirement already satisfied: six>=1.5 in /usr/local/lib/python3.10/dist-packages (from python-dateutil<3.0.0,>=2.1->botocore<1.36.0,>=1.35.29->boto3) (1.16.0)\n",
            "Downloading snowflake_connector_python-3.12.2-cp310-cp310-manylinux_2_17_x86_64.manylinux2014_x86_64.whl (2.5 MB)\n",
            "\u001b[2K   \u001b[90m━━━━━━━━━━━━━━━━━━━━━━━━━━━━━━━━━━━━━━━━\u001b[0m \u001b[32m2.5/2.5 MB\u001b[0m \u001b[31m27.5 MB/s\u001b[0m eta \u001b[36m0:00:00\u001b[0m\n",
            "\u001b[?25hDownloading boto3-1.35.29-py3-none-any.whl (139 kB)\n",
            "\u001b[2K   \u001b[90m━━━━━━━━━━━━━━━━━━━━━━━━━━━━━━━━━━━━━━━━\u001b[0m \u001b[32m139.1/139.1 kB\u001b[0m \u001b[31m7.8 MB/s\u001b[0m eta \u001b[36m0:00:00\u001b[0m\n",
            "\u001b[?25hDownloading asn1crypto-1.5.1-py2.py3-none-any.whl (105 kB)\n",
            "\u001b[2K   \u001b[90m━━━━━━━━━━━━━━━━━━━━━━━━━━━━━━━━━━━━━━━━\u001b[0m \u001b[32m105.0/105.0 kB\u001b[0m \u001b[31m5.9 MB/s\u001b[0m eta \u001b[36m0:00:00\u001b[0m\n",
            "\u001b[?25hDownloading botocore-1.35.29-py3-none-any.whl (12.6 MB)\n",
            "\u001b[2K   \u001b[90m━━━━━━━━━━━━━━━━━━━━━━━━━━━━━━━━━━━━━━━━\u001b[0m \u001b[32m12.6/12.6 MB\u001b[0m \u001b[31m62.5 MB/s\u001b[0m eta \u001b[36m0:00:00\u001b[0m\n",
            "\u001b[?25hDownloading jmespath-1.0.1-py3-none-any.whl (20 kB)\n",
            "Downloading s3transfer-0.10.2-py3-none-any.whl (82 kB)\n",
            "\u001b[2K   \u001b[90m━━━━━━━━━━━━━━━━━━━━━━━━━━━━━━━━━━━━━━━━\u001b[0m \u001b[32m82.7/82.7 kB\u001b[0m \u001b[31m5.2 MB/s\u001b[0m eta \u001b[36m0:00:00\u001b[0m\n",
            "\u001b[?25hDownloading tomlkit-0.13.2-py3-none-any.whl (37 kB)\n",
            "Installing collected packages: asn1crypto, tomlkit, jmespath, botocore, s3transfer, snowflake-connector-python, boto3\n",
            "Successfully installed asn1crypto-1.5.1 boto3-1.35.29 botocore-1.35.29 jmespath-1.0.1 s3transfer-0.10.2 snowflake-connector-python-3.12.2 tomlkit-0.13.2\n"
          ]
        }
      ],
      "source": [
        "# Install the required libraries\n",
        "!pip install snowflake-connector-python boto3\n",
        "\n",
        "import os\n",
        "import boto3\n",
        "import snowflake.connector\n",
        "import json"
      ]
    },
    {
      "cell_type": "code",
      "source": [
        "# AWS credentials (replace with your credentials or configure AWS CLI on your local machine)\n",
        "AWS_ACCESS_KEY = '*****************'  # Avoid hardcoding credentials in production\n",
        "AWS_SECRET_KEY = '************************'\n",
        "REGION_NAME = 'us-east-1'  # e.g., 'us-east-1'\n",
        "\n",
        "# Snowflake connection details (replace with your actual credentials)\n",
        "SNOWFLAKE_USER = 'Anu'\n",
        "SNOWFLAKE_PASSWORD = 'your_password'\n",
        "SNOWFLAKE_ACCOUNT = 'bl14512.ap-southeast-1'\n",
        "SNOWFLAKE_WAREHOUSE = 'COMPUTE_WH'\n",
        "SNOWFLAKE_DATABASE = 'ECOM'\n",
        "SNOWFLAKE_SCHEMA = 'PUBLIC'\n",
        "SNS_TOPIC_ARN = 'Your_SNS_TOPIC_ARN'\n",
        "\n",
        "# Initialize the SNS client\n",
        "sns_client = boto3.client(\n",
        "    'sns',\n",
        "    aws_access_key_id=AWS_ACCESS_KEY,\n",
        "    aws_secret_access_key=AWS_SECRET_KEY,\n",
        "    region_name=REGION_NAME\n",
        ")"
      ],
      "metadata": {
        "id": "DmmGlfjW05Vt"
      },
      "execution_count": null,
      "outputs": []
    },
    {
      "cell_type": "code",
      "source": [
        "def check_task_status():\n",
        "    # Connect to Snowflake\n",
        "    conn = snowflake.connector.connect(\n",
        "        user=SNOWFLAKE_USER,\n",
        "        password=SNOWFLAKE_PASSWORD,\n",
        "        account=SNOWFLAKE_ACCOUNT,\n",
        "        warehouse=SNOWFLAKE_WAREHOUSE,\n",
        "        database=SNOWFLAKE_DATABASE,\n",
        "        schema=SNOWFLAKE_SCHEMA,\n",
        "        authenticator='snowflake',\n",
        "        client_session_keep_alive=True,  # Keeps the session alive, helpful for longer operations\n",
        "        retry_attempts=3\n",
        "    )\n",
        "\n",
        "    try:\n",
        "        # Query to check the status from TASK_STATUS table\n",
        "        query = \"\"\"\n",
        "        SELECT TASK_NAME, SCHEMA_NAME, DATABASE_NAME, STATUS, ERROR_MESSAGE, QUERY_TEXT\n",
        "        FROM ECOM.PUBLIC.TASK_STATUS;\n",
        "        \"\"\"\n",
        "\n",
        "        cursor = conn.cursor()\n",
        "        cursor.execute(query)\n",
        "        results = cursor.fetchall()\n",
        "\n",
        "        # Check the fetched results and send alerts based on specific conditions\n",
        "        # Example condition: Check if the 'STATUS' column has 'FAILED' or any other failure indicator\n",
        "        for row in results:\n",
        "            # Modify based on your table's structure and the condition you want to monitor\n",
        "            TASK_NAME, SCHEMA_NAME, DATABASE_NAME, STATUS, ERROR_MESSAGE, QUERY_TEXT = row  # Example row structure\n",
        "\n",
        "            if STATUS == 'FAILED':  # Adjust condition based on your table structure\n",
        "                message = (\n",
        "                    f\"Task Failure Alert :                   [1] \"\n",
        "                    f\"TASK_NAME : {TASK_NAME}                [2] \"\n",
        "                    f\"SCHEMA_NAME : {SCHEMA_NAME}            [3] \"\n",
        "                    f\"DATABASE_NAME : {DATABASE_NAME}        [4] \"\n",
        "                    f\"STATUS : {STATUS}                      [5] \"\n",
        "                    f\"ERROR_MESSAGE : {ERROR_MESSAGE}        [5] \"\n",
        "                    f\"QUERY_TEXT : {QUERY_TEXT}              \"\n",
        "                )\n",
        "                print(f\"Failures detected for task: {TASK_NAME}\")\n",
        "                send_alert(message)\n",
        "            else:\n",
        "                print(f\"No failures detected for task: {TASK_NAME}\")\n",
        "\n",
        "    except Exception as e:\n",
        "        print(f\"An error occurred: {str(e)}\")\n",
        "    finally:\n",
        "        cursor.close()\n",
        "        conn.close()"
      ],
      "metadata": {
        "id": "niFN891M1SJ5"
      },
      "execution_count": null,
      "outputs": []
    },
    {
      "cell_type": "code",
      "source": [
        "def send_alert(message):\n",
        "    try:\n",
        "        response = sns_client.publish(\n",
        "            TopicArn=SNS_TOPIC_ARN,\n",
        "            Message=message,\n",
        "            Subject='Snowflake Task Status Alert'\n",
        "        )\n",
        "        print(f\"Alert sent! Message ID: {response['MessageId']}\")\n",
        "    except Exception as e:\n",
        "        print(f\"Failed to send alert: {str(e)}\")"
      ],
      "metadata": {
        "id": "l8MVhNth05L8"
      },
      "execution_count": null,
      "outputs": []
    },
    {
      "cell_type": "code",
      "source": [
        "# Run the task status check\n",
        "check_task_status()"
      ],
      "metadata": {
        "id": "lQUo2huM045m",
        "colab": {
          "base_uri": "https://localhost:8080/"
        },
        "outputId": "e2688cde-c0e4-42f0-fc14-7f6ca0f1efa7"
      },
      "execution_count": null,
      "outputs": [
        {
          "output_type": "stream",
          "name": "stdout",
          "text": [
            "No failures detected for task: TASK_SHIPPING\n",
            "No failures detected for task: TASK_UPDATE_TASK_STATUS\n",
            "No failures detected for task: TASK_PAYMENTS\n",
            "Failures detected for task: TASK_PAYMENTS\n",
            "Alert sent! Message ID: 40433e67-1426-5596-abe0-61168bd1919a\n",
            "No failures detected for task: TASK_PRODUCTS\n",
            "No failures detected for task: TASK_ORDERS\n",
            "No failures detected for task: TASK_CUSTOMERS\n",
            "No failures detected for task: TASK_ORDER_ITEMS\n",
            "No failures detected for task: TASK_REVIEWS\n"
          ]
        }
      ]
    }
  ]
}